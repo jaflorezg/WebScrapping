{
 "cells": [
  {
   "cell_type": "markdown",
   "metadata": {
    "id": "BNdKDowjWGp5"
   },
   "source": [
    "#**Web Scrapping**"
   ]
  },
  {
   "cell_type": "markdown",
   "metadata": {
    "id": "dOuSdfo-P91d"
   },
   "source": [
    "Instalamos las librerias para Webscrapping, una de las mas conocidas BeautifulSoup4"
   ]
  },
  {
   "cell_type": "code",
   "execution_count": 1,
   "metadata": {
    "id": "mKlN5BiHNzlM"
   },
   "outputs": [],
   "source": [
    "# !pip install beautifulsoup4\n",
    "# !pip install requests\n",
    "# !pip install selenium\n",
    "# !apt-get update # to update ubuntu to correctly run apt install\n",
    "# !apt install chromium-chromedriver\n",
    "# !cp /usr/lib/chromium-browser/chromedriver /usr/bin"
   ]
  },
  {
   "cell_type": "markdown",
   "metadata": {
    "id": "3LegKgFNheCa"
   },
   "source": [
    "### Librerias"
   ]
  },
  {
   "cell_type": "code",
   "execution_count": 9,
   "metadata": {
    "id": "sxOG7NORYZb9"
   },
   "outputs": [],
   "source": [
    "# from bs4 import BeautifulSoup\n",
    "# from selenium import webdriver\n",
    "# import numpy as np\n",
    "# import pandas as pd\n",
    "# import requests\n",
    "# import csv\n",
    "# from datetime import datetime\n",
    "import random\n",
    "from time import sleep\n",
    "from selenium import webdriver"
   ]
  },
  {
   "cell_type": "code",
   "execution_count": 10,
   "metadata": {
    "id": "ODGMan9o-8sT"
   },
   "outputs": [],
   "source": [
    "# Instancia del driver de selenium que va a controlar el navegador\n",
    "# A partir de este objeto voy a realizar el web scraping e interacciones\n",
    "driver = webdriver.Chrome('./chromedriver')\n"
   ]
  },
  {
   "cell_type": "code",
   "execution_count": 11,
   "metadata": {
    "id": "n1H9sKaX-8u0"
   },
   "outputs": [],
   "source": [
    "# Voy a la pagina que requiero\n",
    "driver.get('https://www.olx.com.co/autos_c378')\n"
   ]
  },
  {
   "cell_type": "code",
   "execution_count": 12,
   "metadata": {
    "id": "SOgne-3m-8yV"
   },
   "outputs": [],
   "source": [
    "# Busco el boton para cargar mas informacion\n",
    "boton = driver.find_element_by_xpath('//button[@data-aut-id=\"btnLoadMore\"]')\n",
    "for i in range(3): # Voy a darle click en cargar mas 3 veces\n",
    "    try:\n",
    "        # le doy click\n",
    "        boton.click()\n",
    "        # espero que cargue la informacion dinamica\n",
    "        sleep(random.uniform(8.0, 10.0))\n",
    "        # busco el boton nuevamente para darle click en la siguiente iteracion\n",
    "        boton = driver.find_element_by_xpath('//button[@data-aut-id=\"btnLoadMore\"]')\n",
    "    except:\n",
    "        # si hay algun error, rompo el lazo. No me complico.\n",
    "        break\n"
   ]
  },
  {
   "cell_type": "code",
   "execution_count": 13,
   "metadata": {
    "id": "8xJm8Puv-80P"
   },
   "outputs": [],
   "source": [
    "# Encuentro cual es el XPATH de cada elemento donde esta la informacion que quiero extraer\n",
    "# Esto es una LISTA. Por eso el metodo esta en plural\n",
    "autos = driver.find_elements_by_xpath('//li[@data-aut-id=\"itemBox\"]')\n"
   ]
  },
  {
   "cell_type": "code",
   "execution_count": 14,
   "metadata": {
    "id": "s5X4eiFv-82U",
    "scrolled": false
   },
   "outputs": [
    {
     "name": "stdout",
     "output_type": "stream",
     "text": [
      "$ 69.200.000\n",
      "SUZUKI SCROSS\n",
      "$ 28.500.000\n",
      "KIA CERATO FORTE SX 1.6L/2012 MECANICO\n",
      "$ 38.990.000\n",
      "SSANGYONG KORANDO 2.0 DIESEL AUT\n",
      "$ 73.290.000\n",
      "KIA CERATO VIVRO MECANICO\n",
      "$ 145.000.000\n",
      "Pajarita 428e\n",
      "$ 52.000.000\n",
      "Se vende hermoso Mazda 2 Touring, cojinería en cuero, unico dueño.\n",
      "$ 89.990.000\n",
      "Mazda CX-5 Touring 2.5 Modelo 2019 automática 2.5\n",
      "$ 38.500.000\n",
      "Vendo Kia río 2015\n",
      "$ 89.900.000\n",
      "VENDO O PERMUTO TAXI CHEVROLET COBALT 2016\n",
      "$ 49.500.000\n",
      "Dodge Journey SE 2014 7 puestos 4x2 con 94 mil kms\n",
      "$ 90.000.000\n",
      "VENDO CAMIONETA HONDA\n",
      "$ 20.500.000\n",
      "VENDO CHEVROLET AVEO\n",
      "$ 40.700.000\n",
      "Carro Nissan\n",
      "$ 136.000.000\n",
      "Ford Mustang GT como nuevo\n",
      "$ 66.000.000\n",
      "MAZDA 3 GRAND TOURING 2018 COLOR ROJO\n",
      "$ 35.490.000\n",
      "Nissan March Advance ID 40351 Modelo 2016\n",
      "$ 11.000.000\n",
      "Vendo Mazda Allegro (colepato) !!!\n",
      "$ 6.000.000\n",
      "Carro mazda\n",
      "$ 62.900.000\n",
      "CHEVROLET TRACKER LT 2019 AT 1.8CC GASOLINA 4X2 FULL AA AB ABS\n",
      "$ 28.800.000\n",
      "Sandero como nuevo\n",
      "$ 80.850.000\n",
      "Mazda 3 Prime At 2.0L Rojo | 2022\n",
      "$ 46.700.000\n",
      "VEN-CAMBIO CAMIONETA TOYOTA LAN CRUISSER MODELO 1987 NUNCA CHOCADA\n",
      "$ 52.000.000\n",
      "Toyota hilux 2008 sincronica a disel 4x2\n",
      "$ 52.500.000\n",
      "TOYOTA PRADO VX BLINDAJE II PLUS 3.4 4X4 2006\n",
      "$ 49.500.000\n",
      "Dodge Journey SE 2014 7 puestos 4x2 con 94 mil kms\n",
      "$ 90.000.000\n",
      "VENDO CAMIONETA HONDA\n",
      "$ 20.500.000\n",
      "VENDO CHEVROLET AVEO\n",
      "$ 40.700.000\n",
      "Carro Nissan\n",
      "$ 136.000.000\n",
      "Ford Mustang GT como nuevo\n",
      "$ 66.000.000\n",
      "MAZDA 3 GRAND TOURING 2018 COLOR ROJO\n",
      "$ 35.490.000\n",
      "Nissan March Advance ID 40351 Modelo 2016\n",
      "$ 11.000.000\n",
      "Vendo Mazda Allegro (colepato) !!!\n",
      "$ 6.000.000\n",
      "Carro mazda\n",
      "$ 45.000.000\n",
      "Vendo económico RENAUL steway\n",
      "$ 31.500.000\n",
      "Kia Rio Spice 1.4 2013\n",
      "$ 18.500.000\n",
      "Renault logan\n",
      "$ 164.000.000\n",
      "TOYOTA HILUX 2018 2,8\n",
      "$ 119.000.000\n",
      "VENDO FORTUNER GRIS BLINDAJE 3 MAS INF DIRECTO\n",
      "$ 58.000.000\n",
      "Se vende barata Chevrolet NHR 2010furgon termokin\n",
      "$ 36.500.000\n",
      "Duster 4x4 placa blanca con trabajo\n",
      "$ 70.800.000\n",
      "Mazda 3 grand touring LX EXCELENTE ESTADO\n",
      "$ 62.000.000\n",
      "Renault duster polar 2.0 mecánica 4x4\n",
      "$ 33.800.000\n",
      "Volkswagen Jetta Trendline Aut\n",
      "$ 54.990.000\n",
      "SSANGYONG TIVOLI\n",
      "$ 26.000.000\n",
      "Vendo mazda2 2009\n",
      "$ 7.000.000\n",
      "Vendo mazda 323 coupe\n",
      "$ 35.000.000\n",
      "Vehiculo de carga laborando\n",
      "$ 184.900.000\n",
      "TOYOTA FORTUNER MOTOR 2.8 DIESEL BLINDAJE NIVEL III\n",
      "$ 56.500.000\n",
      "RENAULT DUSTER 2.019 Intens / Smart / TripAdvisor MT 1.6L\n",
      "$ 16.500.000\n",
      "Se vende chevrolet aveo 2008\n",
      "$ 10.800.000\n",
      "CAMIONETA RECIEN REPARADA PARANEGOCIO\n",
      "$ 35.000.000\n",
      "RENAULT LOGAN PRIVILEGE MECANICO 2018 (FULL EQUIPO).\n",
      "$ 55.000.000\n",
      "Ford escape\n",
      "$ 17.000.000\n",
      "Renault Twingo mod 2012\n",
      "$ 42.000.000\n",
      "GRAN OPORTUNIDAD : CHEVROLET TRACKER\n",
      "$ 35.500.000\n",
      "Renault Sandero mod 2017\n",
      "$ 35.000.000\n",
      "Vendo taxi servicio especial\n",
      "$ 19.000.000\n",
      "Vendo carro\n",
      "$ 12.000.000\n",
      "Mazda Allegro mod 1998\n",
      "$ 24.500.000\n",
      "Chevrolet Spark Gt 2014\n",
      "$ 111.900.000\n",
      "Jeep Cherokee\n",
      "$ 93.800.000\n",
      "Chevrolet Dmax 4x4\n",
      "$ 555.555.555\n",
      "REPUESTOS JETTA\n",
      "$ 23.900.000\n",
      "Chevrolet Spark Life 1.0 208\n",
      "$ 54.000.000\n",
      "Nissan Versa AT mod 2019\n",
      "$ 84.500.000\n",
      "Bmw x3 4x4 Xdrive28i\n",
      "$ 15.500.000\n",
      "Venpermuto camioneta carga\n",
      "$ 12.600.000\n",
      "Venta Volkswagen gol 1.8\n",
      "$ 69.000.000\n",
      "Toyota hilux 4x4 gasolina\n",
      "$ 44.300.000\n",
      "Nissan Frontier full equipo\n",
      "$ 10.000.000\n",
      "Se vende Hyundai modelo 2003 en óptimas condiciones de uso.\n",
      "$ 9.500.000\n",
      "Renault Clio 2001\n",
      "$ 53.000.000\n",
      "Nissan frontier diésel 4x4\n",
      "$ 32.000.000\n",
      "Spark gt 2019\n",
      "$ 32.000.000\n",
      "Nissan Patrol 1978 Todo Original\n",
      "$ 48.000.000\n",
      "VENDO TAXI\n",
      "$ 6.600.000\n",
      "Se vende mazda 323 coupé excelente estado\n",
      "$ 5.000.000\n",
      "vendo amortiguadores ford raptor\n",
      "$ 12.500.000\n",
      "Vendo clio dynaque\n",
      "$ 36.000.000\n",
      "Vendo spark gt premier full equipo 2019\n"
     ]
    }
   ],
   "source": [
    "\n",
    "# Recorro cada uno de los anuncios que he encontrado\n",
    "for auto in autos:\n",
    "    # Por cada anuncio hallo el preico\n",
    "    precio = auto.find_element_by_xpath('.//span[@data-aut-id=\"itemPrice\"]').text\n",
    "    print (precio)\n",
    "    # Por cada anuncio hallo la descripcion\n",
    "    descripcion = auto.find_element_by_xpath('.//span[@data-aut-id=\"itemTitle\"]').text\n",
    "    print (descripcion)"
   ]
  },
  {
   "cell_type": "code",
   "execution_count": null,
   "metadata": {},
   "outputs": [],
   "source": []
  }
 ],
 "metadata": {
  "colab": {
   "authorship_tag": "ABX9TyP1zme1Zxw17nijcUrgZ1tM",
   "collapsed_sections": [],
   "name": "WebScrapping.ipynb",
   "provenance": []
  },
  "kernelspec": {
   "display_name": "Python 3",
   "language": "python",
   "name": "python3"
  },
  "language_info": {
   "codemirror_mode": {
    "name": "ipython",
    "version": 3
   },
   "file_extension": ".py",
   "mimetype": "text/x-python",
   "name": "python",
   "nbconvert_exporter": "python",
   "pygments_lexer": "ipython3",
   "version": "3.7.4"
  }
 },
 "nbformat": 4,
 "nbformat_minor": 1
}
